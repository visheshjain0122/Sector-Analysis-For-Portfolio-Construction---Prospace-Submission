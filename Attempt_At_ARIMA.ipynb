{
  "nbformat": 4,
  "nbformat_minor": 0,
  "metadata": {
    "colab": {
      "provenance": []
    },
    "kernelspec": {
      "name": "python3",
      "display_name": "Python 3"
    },
    "language_info": {
      "name": "python"
    }
  },
  "cells": [
    {
      "cell_type": "code",
      "execution_count": null,
      "metadata": {
        "colab": {
          "base_uri": "https://localhost:8080/"
        },
        "id": "YiJ2ju45ycff",
        "outputId": "bb605b16-084d-4ee9-8c17-4f8a0ea47001"
      },
      "outputs": [
        {
          "output_type": "stream",
          "name": "stdout",
          "text": [
            "Requirement already satisfied: yfinance in /usr/local/lib/python3.10/dist-packages (0.2.38)\n",
            "Requirement already satisfied: pandas>=1.3.0 in /usr/local/lib/python3.10/dist-packages (from yfinance) (2.0.3)\n",
            "Requirement already satisfied: numpy>=1.16.5 in /usr/local/lib/python3.10/dist-packages (from yfinance) (1.25.2)\n",
            "Requirement already satisfied: requests>=2.31 in /usr/local/lib/python3.10/dist-packages (from yfinance) (2.31.0)\n",
            "Requirement already satisfied: multitasking>=0.0.7 in /usr/local/lib/python3.10/dist-packages (from yfinance) (0.0.11)\n",
            "Requirement already satisfied: lxml>=4.9.1 in /usr/local/lib/python3.10/dist-packages (from yfinance) (4.9.4)\n",
            "Requirement already satisfied: appdirs>=1.4.4 in /usr/local/lib/python3.10/dist-packages (from yfinance) (1.4.4)\n",
            "Requirement already satisfied: pytz>=2022.5 in /usr/local/lib/python3.10/dist-packages (from yfinance) (2023.4)\n",
            "Requirement already satisfied: frozendict>=2.3.4 in /usr/local/lib/python3.10/dist-packages (from yfinance) (2.4.4)\n",
            "Requirement already satisfied: peewee>=3.16.2 in /usr/local/lib/python3.10/dist-packages (from yfinance) (3.17.5)\n",
            "Requirement already satisfied: beautifulsoup4>=4.11.1 in /usr/local/lib/python3.10/dist-packages (from yfinance) (4.12.3)\n",
            "Requirement already satisfied: html5lib>=1.1 in /usr/local/lib/python3.10/dist-packages (from yfinance) (1.1)\n",
            "Requirement already satisfied: soupsieve>1.2 in /usr/local/lib/python3.10/dist-packages (from beautifulsoup4>=4.11.1->yfinance) (2.5)\n",
            "Requirement already satisfied: six>=1.9 in /usr/local/lib/python3.10/dist-packages (from html5lib>=1.1->yfinance) (1.16.0)\n",
            "Requirement already satisfied: webencodings in /usr/local/lib/python3.10/dist-packages (from html5lib>=1.1->yfinance) (0.5.1)\n",
            "Requirement already satisfied: python-dateutil>=2.8.2 in /usr/local/lib/python3.10/dist-packages (from pandas>=1.3.0->yfinance) (2.8.2)\n",
            "Requirement already satisfied: tzdata>=2022.1 in /usr/local/lib/python3.10/dist-packages (from pandas>=1.3.0->yfinance) (2024.1)\n",
            "Requirement already satisfied: charset-normalizer<4,>=2 in /usr/local/lib/python3.10/dist-packages (from requests>=2.31->yfinance) (3.3.2)\n",
            "Requirement already satisfied: idna<4,>=2.5 in /usr/local/lib/python3.10/dist-packages (from requests>=2.31->yfinance) (3.7)\n",
            "Requirement already satisfied: urllib3<3,>=1.21.1 in /usr/local/lib/python3.10/dist-packages (from requests>=2.31->yfinance) (2.0.7)\n",
            "Requirement already satisfied: certifi>=2017.4.17 in /usr/local/lib/python3.10/dist-packages (from requests>=2.31->yfinance) (2024.2.2)\n"
          ]
        }
      ],
      "source": [
        "!pip install yfinance"
      ]
    },
    {
      "cell_type": "code",
      "source": [
        "import yfinance as yf\n",
        "import pandas as pd\n",
        "from datetime import datetime, timedelta"
      ],
      "metadata": {
        "id": "2qH1AsoOyqX_"
      },
      "execution_count": null,
      "outputs": []
    },
    {
      "cell_type": "code",
      "source": [
        "# The relevant Nifty sector indices and their ticker symbols\n",
        "nifty_indices = {\n",
        "    'Nifty Auto': '^CNXAUTO',\n",
        "    'NIFTY ENERGY': '^CNXENERGY',\n",
        "    'Nifty FMCG': '^CNXFMCG',\n",
        "    'Nifty IT': '^CNXIT',\n",
        "    'Nifty Media': '^CNXMEDIA',\n",
        "    'Nifty Metal': '^CNXMETAL',\n",
        "    'Nifty PSU Bank': '^CNXPSUBANK',\n",
        "    'Nifty Realty': '^CNXREALTY',\n",
        "    'NIFTY BANK': '^NSEBANK',\n",
        "    'NIFTY MEDIA': '^CNXMEDIA',\n",
        "    'NIFTY CONSUMPTION': '^CNXCONSUM',\n",
        "    'NIFTY MNC': '^CNXMNC',\n",
        "    'NIFTY PSE': '^CNXPSE',\n",
        "    'NIFTY COMMODITIES': '^CNXCMDT',\n",
        "    'NIFTY SERV SECTOR': '^CNXSERVICE'\n",
        "}"
      ],
      "metadata": {
        "id": "tm6AkPOIB2oe"
      },
      "execution_count": null,
      "outputs": []
    },
    {
      "cell_type": "markdown",
      "source": [
        "# ARIMA\n",
        "\n",
        "Autoregressive Integrated Moving Average\n",
        "\n",
        "We will perform ARIMA on the closing prices of each of the Nifty sector stocks and forcast for the next two years and then compare to nifty fifty.\n",
        "\n",
        "\n",
        "\n",
        "---\n",
        "\n",
        "\n",
        "\n",
        "**Some pre-requisites:**\n",
        "\n",
        "1. ACF Plot - identifies till which lag period/variable, the autocorrelations are significant, and this value is given by $q$\n",
        "\n",
        "2. PACF Plot - identifies till which lag period/variable, the partial autocorrelation is significant, and this is given by $p$\n",
        "\n",
        "3. $d$ - differencing factor\n",
        "\n",
        "\n",
        "\n",
        "---\n",
        "\n",
        "\n",
        "We will be using the **auto_arima** library in order to find values of $p,d,q$ for each of our nifty stocks (maybe)"
      ],
      "metadata": {
        "id": "UPXNZHTO_BWj"
      }
    },
    {
      "cell_type": "code",
      "source": [
        "!pip install pmdarima"
      ],
      "metadata": {
        "colab": {
          "base_uri": "https://localhost:8080/"
        },
        "id": "6c_mefnZI0yt",
        "outputId": "fb25ce54-9ea3-4045-8e4a-ca7fcff7c2f1"
      },
      "execution_count": null,
      "outputs": [
        {
          "output_type": "stream",
          "name": "stdout",
          "text": [
            "Collecting pmdarima\n",
            "  Downloading pmdarima-2.0.4-cp310-cp310-manylinux_2_17_x86_64.manylinux2014_x86_64.manylinux_2_28_x86_64.whl (2.1 MB)\n",
            "\u001b[?25l     \u001b[90m━━━━━━━━━━━━━━━━━━━━━━━━━━━━━━━━━━━━━━━━\u001b[0m \u001b[32m0.0/2.1 MB\u001b[0m \u001b[31m?\u001b[0m eta \u001b[36m-:--:--\u001b[0m\r\u001b[2K     \u001b[91m━━━━━━━━\u001b[0m\u001b[91m╸\u001b[0m\u001b[90m━━━━━━━━━━━━━━━━━━━━━━━━━━━━━━━\u001b[0m \u001b[32m0.5/2.1 MB\u001b[0m \u001b[31m13.3 MB/s\u001b[0m eta \u001b[36m0:00:01\u001b[0m\r\u001b[2K     \u001b[91m━━━━━━━━━━━━━━━━━━━━━━━━━━━━━━━━━━━━━━━\u001b[0m\u001b[91m╸\u001b[0m \u001b[32m2.1/2.1 MB\u001b[0m \u001b[31m41.4 MB/s\u001b[0m eta \u001b[36m0:00:01\u001b[0m\r\u001b[2K     \u001b[90m━━━━━━━━━━━━━━━━━━━━━━━━━━━━━━━━━━━━━━━━\u001b[0m \u001b[32m2.1/2.1 MB\u001b[0m \u001b[31m29.0 MB/s\u001b[0m eta \u001b[36m0:00:00\u001b[0m\n",
            "\u001b[?25hRequirement already satisfied: joblib>=0.11 in /usr/local/lib/python3.10/dist-packages (from pmdarima) (1.4.2)\n",
            "Requirement already satisfied: Cython!=0.29.18,!=0.29.31,>=0.29 in /usr/local/lib/python3.10/dist-packages (from pmdarima) (3.0.10)\n",
            "Requirement already satisfied: numpy>=1.21.2 in /usr/local/lib/python3.10/dist-packages (from pmdarima) (1.25.2)\n",
            "Requirement already satisfied: pandas>=0.19 in /usr/local/lib/python3.10/dist-packages (from pmdarima) (2.0.3)\n",
            "Requirement already satisfied: scikit-learn>=0.22 in /usr/local/lib/python3.10/dist-packages (from pmdarima) (1.2.2)\n",
            "Requirement already satisfied: scipy>=1.3.2 in /usr/local/lib/python3.10/dist-packages (from pmdarima) (1.11.4)\n",
            "Requirement already satisfied: statsmodels>=0.13.2 in /usr/local/lib/python3.10/dist-packages (from pmdarima) (0.14.2)\n",
            "Requirement already satisfied: urllib3 in /usr/local/lib/python3.10/dist-packages (from pmdarima) (2.0.7)\n",
            "Requirement already satisfied: setuptools!=50.0.0,>=38.6.0 in /usr/local/lib/python3.10/dist-packages (from pmdarima) (67.7.2)\n",
            "Requirement already satisfied: packaging>=17.1 in /usr/local/lib/python3.10/dist-packages (from pmdarima) (24.0)\n",
            "Requirement already satisfied: python-dateutil>=2.8.2 in /usr/local/lib/python3.10/dist-packages (from pandas>=0.19->pmdarima) (2.8.2)\n",
            "Requirement already satisfied: pytz>=2020.1 in /usr/local/lib/python3.10/dist-packages (from pandas>=0.19->pmdarima) (2023.4)\n",
            "Requirement already satisfied: tzdata>=2022.1 in /usr/local/lib/python3.10/dist-packages (from pandas>=0.19->pmdarima) (2024.1)\n",
            "Requirement already satisfied: threadpoolctl>=2.0.0 in /usr/local/lib/python3.10/dist-packages (from scikit-learn>=0.22->pmdarima) (3.5.0)\n",
            "Requirement already satisfied: patsy>=0.5.6 in /usr/local/lib/python3.10/dist-packages (from statsmodels>=0.13.2->pmdarima) (0.5.6)\n",
            "Requirement already satisfied: six in /usr/local/lib/python3.10/dist-packages (from patsy>=0.5.6->statsmodels>=0.13.2->pmdarima) (1.16.0)\n",
            "Installing collected packages: pmdarima\n",
            "Successfully installed pmdarima-2.0.4\n"
          ]
        }
      ]
    },
    {
      "cell_type": "code",
      "source": [
        "import pmdarima as pm\n",
        "import matplotlib.pyplot as plt\n",
        "from pmdarima.arima import auto_arima\n",
        "import itertools\n",
        "import statsmodels.api as sm"
      ],
      "metadata": {
        "id": "fO5rbmiUTEw9"
      },
      "execution_count": null,
      "outputs": []
    },
    {
      "cell_type": "code",
      "source": [
        "#making a loop to take in data of first 8 years\n",
        "#then forcast using ARIMA\n",
        "#and finally compare with Nifty 50\n",
        "\n",
        "\n",
        "# Set the start and end dates for the first 8 years\n",
        "end_date_8 = datetime.today() - timedelta(days=2*365)\n",
        "start_date_8 = datetime.today() - timedelta(days=10*365)\n",
        "\n",
        "\n",
        "# Dictionary to hold data, closing prices and forecast frame for each index\n",
        "data_8 = {}\n",
        "prices_8 = {}\n",
        "forecast_df = {}\n",
        "\n",
        "NSEI_data = yf.download('^NSEI', start=end_date, end=date.today())\n",
        "\n",
        "\n",
        "# Download the data for each index\n",
        "for index_name, ticker in nifty_indices.items():\n",
        "\n",
        "    #extracting first 8 years\n",
        "    data_8[index_name] = yf.download(ticker, start=start_date_8, end=end_date_8)\n",
        "    data_8[index_name] = pd.DataFrame(data_8[index_name]) # just making sure they are converted to data frames\n",
        "\n",
        "    #extracting prices\n",
        "    prices_8[index_name] = data_8[index_name].reset_index()['Close']\n",
        "\n",
        "    #dropping any NaN values\n",
        "    prices_8[index_name] = prices_8[index_name].dropna()\n",
        "\n",
        "\n",
        "    #to obtain p,d,q\n",
        "    model = auto_arima(prices_8[index_name], start_p=1, start_q=1,\n",
        "                      test='adf',\n",
        "                      max_p=5, max_q=5,\n",
        "                      m=1,\n",
        "                      d=1,\n",
        "                      seasonal=False,\n",
        "                      start_P=0,\n",
        "                      D=None,\n",
        "                      trace=True,\n",
        "                      error_action='ignore',\n",
        "                      suppress_warnings=True,\n",
        "                      stepwise=True)\n",
        "\n",
        "\n",
        "    #to forecast\n",
        "\n",
        "\n",
        "    # Forecast the next two years\n",
        "    forecast_period = len(NSEI_data)\n",
        "    forecast_df[index_name] = pd.DataFrame(model.predict(n_periods=forecast_period), index = prices_8[index_name].index)\n",
        "    forecast_df[index_name].columns = ['Forcasting Closing Price']\n",
        "\n",
        "    print(forecast_df[index_name])\n",
        "\n",
        "\n"
      ],
      "metadata": {
        "colab": {
          "base_uri": "https://localhost:8080/"
        },
        "id": "9j4iQ1rtTONU",
        "outputId": "3209fbfd-5a62-404e-e8c0-41f407ea671d"
      },
      "execution_count": null,
      "outputs": [
        {
          "output_type": "stream",
          "name": "stderr",
          "text": [
            "[*********************100%%**********************]  1 of 1 completed\n",
            "[*********************100%%**********************]  1 of 1 completed\n"
          ]
        },
        {
          "output_type": "stream",
          "name": "stdout",
          "text": [
            "Performing stepwise search to minimize aic\n",
            " ARIMA(1,1,1)(0,0,0)[0] intercept   : AIC=24377.582, Time=1.30 sec\n",
            " ARIMA(0,1,0)(0,0,0)[0] intercept   : AIC=24376.525, Time=0.13 sec\n",
            " ARIMA(1,1,0)(0,0,0)[0] intercept   : AIC=24376.193, Time=0.26 sec\n",
            " ARIMA(0,1,1)(0,0,0)[0] intercept   : AIC=24376.281, Time=0.40 sec\n",
            " ARIMA(0,1,0)(0,0,0)[0]             : AIC=24375.246, Time=0.11 sec\n",
            "\n",
            "Best model:  ARIMA(0,1,0)(0,0,0)[0]          \n",
            "Total fit time: 2.224 seconds\n",
            "      Forcasting Closing Price\n",
            "0                          NaN\n",
            "1                          NaN\n",
            "2                          NaN\n",
            "3                          NaN\n",
            "4                          NaN\n",
            "...                        ...\n",
            "1952                       NaN\n",
            "1953                       NaN\n",
            "1954                       NaN\n",
            "1955                       NaN\n",
            "1956                       NaN\n",
            "\n",
            "[1957 rows x 1 columns]\n"
          ]
        },
        {
          "output_type": "stream",
          "name": "stderr",
          "text": [
            "\r[*********************100%%**********************]  1 of 1 completed\n"
          ]
        },
        {
          "output_type": "stream",
          "name": "stdout",
          "text": [
            "Performing stepwise search to minimize aic\n",
            " ARIMA(1,1,1)(0,0,0)[0] intercept   : AIC=26206.265, Time=2.58 sec\n",
            " ARIMA(0,1,0)(0,0,0)[0] intercept   : AIC=26203.193, Time=0.14 sec\n",
            " ARIMA(1,1,0)(0,0,0)[0] intercept   : AIC=26204.287, Time=0.44 sec\n",
            " ARIMA(0,1,1)(0,0,0)[0] intercept   : AIC=26204.308, Time=0.36 sec\n",
            " ARIMA(0,1,0)(0,0,0)[0]             : AIC=26204.605, Time=0.10 sec\n",
            "\n",
            "Best model:  ARIMA(0,1,0)(0,0,0)[0] intercept\n",
            "Total fit time: 3.632 seconds\n",
            "      Forcasting Closing Price\n",
            "0                          NaN\n",
            "1                          NaN\n",
            "2                          NaN\n",
            "3                          NaN\n",
            "4                          NaN\n",
            "...                        ...\n",
            "1952                       NaN\n",
            "1953                       NaN\n",
            "1954                       NaN\n",
            "1955                       NaN\n",
            "1956                       NaN\n",
            "\n",
            "[1957 rows x 1 columns]\n"
          ]
        },
        {
          "output_type": "stream",
          "name": "stderr",
          "text": [
            "\r[*********************100%%**********************]  1 of 1 completed\n"
          ]
        },
        {
          "output_type": "stream",
          "name": "stdout",
          "text": [
            "Performing stepwise search to minimize aic\n",
            " ARIMA(1,1,1)(0,0,0)[0] intercept   : AIC=27843.567, Time=0.82 sec\n",
            " ARIMA(0,1,0)(0,0,0)[0] intercept   : AIC=27839.944, Time=0.09 sec\n",
            " ARIMA(1,1,0)(0,0,0)[0] intercept   : AIC=27841.576, Time=0.10 sec\n",
            " ARIMA(0,1,1)(0,0,0)[0] intercept   : AIC=27841.585, Time=0.19 sec\n",
            " ARIMA(0,1,0)(0,0,0)[0]             : AIC=27840.413, Time=0.06 sec\n",
            "\n",
            "Best model:  ARIMA(0,1,0)(0,0,0)[0] intercept\n",
            "Total fit time: 1.262 seconds\n",
            "      Forcasting Closing Price\n",
            "0                          NaN\n",
            "1                          NaN\n",
            "2                          NaN\n",
            "3                          NaN\n",
            "4                          NaN\n",
            "...                        ...\n",
            "1951                       NaN\n",
            "1952                       NaN\n",
            "1953                       NaN\n",
            "1954                       NaN\n",
            "1955                       NaN\n",
            "\n",
            "[1956 rows x 1 columns]\n"
          ]
        },
        {
          "output_type": "stream",
          "name": "stderr",
          "text": [
            "\r[*********************100%%**********************]  1 of 1 completed\n"
          ]
        },
        {
          "output_type": "stream",
          "name": "stdout",
          "text": [
            "Performing stepwise search to minimize aic\n",
            " ARIMA(1,1,1)(0,0,0)[0] intercept   : AIC=25029.461, Time=0.83 sec\n",
            " ARIMA(0,1,0)(0,0,0)[0] intercept   : AIC=25025.783, Time=0.08 sec\n",
            " ARIMA(1,1,0)(0,0,0)[0] intercept   : AIC=25027.466, Time=0.10 sec\n",
            " ARIMA(0,1,1)(0,0,0)[0] intercept   : AIC=25027.465, Time=0.22 sec\n",
            " ARIMA(0,1,0)(0,0,0)[0]             : AIC=25025.101, Time=0.05 sec\n",
            "\n",
            "Best model:  ARIMA(0,1,0)(0,0,0)[0]          \n",
            "Total fit time: 1.282 seconds\n",
            "      Forcasting Closing Price\n",
            "0                          NaN\n",
            "1                          NaN\n",
            "2                          NaN\n",
            "3                          NaN\n",
            "4                          NaN\n",
            "...                        ...\n",
            "1670                       NaN\n",
            "1671                       NaN\n",
            "1672                       NaN\n",
            "1673                       NaN\n",
            "1674                       NaN\n",
            "\n",
            "[1675 rows x 1 columns]\n"
          ]
        },
        {
          "output_type": "stream",
          "name": "stderr",
          "text": [
            "\r[*********************100%%**********************]  1 of 1 completed\n"
          ]
        },
        {
          "output_type": "stream",
          "name": "stdout",
          "text": [
            "Performing stepwise search to minimize aic\n",
            " ARIMA(1,1,1)(0,0,0)[0] intercept   : AIC=19689.528, Time=0.97 sec\n",
            " ARIMA(0,1,0)(0,0,0)[0] intercept   : AIC=19687.706, Time=0.09 sec\n",
            " ARIMA(1,1,0)(0,0,0)[0] intercept   : AIC=19688.829, Time=0.10 sec\n",
            " ARIMA(0,1,1)(0,0,0)[0] intercept   : AIC=19688.798, Time=0.43 sec\n",
            " ARIMA(0,1,0)(0,0,0)[0]             : AIC=19685.710, Time=0.08 sec\n",
            "\n",
            "Best model:  ARIMA(0,1,0)(0,0,0)[0]          \n",
            "Total fit time: 1.672 seconds\n",
            "      Forcasting Closing Price\n",
            "0                          NaN\n",
            "1                          NaN\n",
            "2                          NaN\n",
            "3                          NaN\n",
            "4                          NaN\n",
            "...                        ...\n",
            "1952                       NaN\n",
            "1953                       NaN\n",
            "1954                       NaN\n",
            "1955                       NaN\n",
            "1956                       NaN\n",
            "\n",
            "[1957 rows x 1 columns]\n"
          ]
        },
        {
          "output_type": "stream",
          "name": "stderr",
          "text": [
            "\r[*********************100%%**********************]  1 of 1 completed\n"
          ]
        },
        {
          "output_type": "stream",
          "name": "stdout",
          "text": [
            "Performing stepwise search to minimize aic\n",
            " ARIMA(1,1,1)(0,0,0)[0] intercept   : AIC=21772.643, Time=1.45 sec\n",
            " ARIMA(0,1,0)(0,0,0)[0] intercept   : AIC=21769.795, Time=0.10 sec\n",
            " ARIMA(1,1,0)(0,0,0)[0] intercept   : AIC=21771.224, Time=0.06 sec\n",
            " ARIMA(0,1,1)(0,0,0)[0] intercept   : AIC=21771.183, Time=0.23 sec\n",
            " ARIMA(0,1,0)(0,0,0)[0]             : AIC=21768.357, Time=0.05 sec\n",
            "\n",
            "Best model:  ARIMA(0,1,0)(0,0,0)[0]          \n",
            "Total fit time: 1.904 seconds\n",
            "      Forcasting Closing Price\n",
            "0                          NaN\n",
            "1                          NaN\n",
            "2                          NaN\n",
            "3                          NaN\n",
            "4                          NaN\n",
            "...                        ...\n",
            "1952                       NaN\n",
            "1953                       NaN\n",
            "1954                       NaN\n",
            "1955                       NaN\n",
            "1956                       NaN\n",
            "\n",
            "[1957 rows x 1 columns]\n"
          ]
        },
        {
          "output_type": "stream",
          "name": "stderr",
          "text": [
            "\r[*********************100%%**********************]  1 of 1 completed\n"
          ]
        },
        {
          "output_type": "stream",
          "name": "stdout",
          "text": [
            "Performing stepwise search to minimize aic\n",
            " ARIMA(1,1,1)(0,0,0)[0] intercept   : AIC=21700.642, Time=1.42 sec\n",
            " ARIMA(0,1,0)(0,0,0)[0] intercept   : AIC=21698.957, Time=0.09 sec\n",
            " ARIMA(1,1,0)(0,0,0)[0] intercept   : AIC=21700.554, Time=0.14 sec\n",
            " ARIMA(0,1,1)(0,0,0)[0] intercept   : AIC=21700.546, Time=0.23 sec\n",
            " ARIMA(0,1,0)(0,0,0)[0]             : AIC=21697.213, Time=0.06 sec\n",
            "\n",
            "Best model:  ARIMA(0,1,0)(0,0,0)[0]          \n",
            "Total fit time: 1.948 seconds\n",
            "      Forcasting Closing Price\n",
            "0                          NaN\n",
            "1                          NaN\n",
            "2                          NaN\n",
            "3                          NaN\n",
            "4                          NaN\n",
            "...                        ...\n",
            "1952                       NaN\n",
            "1953                       NaN\n",
            "1954                       NaN\n",
            "1955                       NaN\n",
            "1956                       NaN\n",
            "\n",
            "[1957 rows x 1 columns]\n"
          ]
        },
        {
          "output_type": "stream",
          "name": "stderr",
          "text": [
            "\r[*********************100%%**********************]  1 of 1 completed\n"
          ]
        },
        {
          "output_type": "stream",
          "name": "stdout",
          "text": [
            "Performing stepwise search to minimize aic\n",
            " ARIMA(1,1,1)(0,0,0)[0] intercept   : AIC=12302.473, Time=0.45 sec\n",
            " ARIMA(0,1,0)(0,0,0)[0] intercept   : AIC=12307.457, Time=0.09 sec\n",
            " ARIMA(1,1,0)(0,0,0)[0] intercept   : AIC=12300.476, Time=0.15 sec\n",
            " ARIMA(0,1,1)(0,0,0)[0] intercept   : AIC=12300.514, Time=0.52 sec\n",
            " ARIMA(0,1,0)(0,0,0)[0]             : AIC=12305.850, Time=0.09 sec\n",
            " ARIMA(2,1,0)(0,0,0)[0] intercept   : AIC=12302.471, Time=0.70 sec\n",
            " ARIMA(2,1,1)(0,0,0)[0] intercept   : AIC=12304.474, Time=1.09 sec\n",
            " ARIMA(1,1,0)(0,0,0)[0]             : AIC=12298.816, Time=0.17 sec\n",
            " ARIMA(2,1,0)(0,0,0)[0]             : AIC=12300.813, Time=0.37 sec\n",
            " ARIMA(1,1,1)(0,0,0)[0]             : AIC=12300.814, Time=0.44 sec\n",
            " ARIMA(0,1,1)(0,0,0)[0]             : AIC=12298.857, Time=0.22 sec\n",
            " ARIMA(2,1,1)(0,0,0)[0]             : AIC=12302.815, Time=0.56 sec\n",
            "\n",
            "Best model:  ARIMA(1,1,0)(0,0,0)[0]          \n",
            "Total fit time: 4.867 seconds\n",
            "      Forcasting Closing Price\n",
            "0                          NaN\n",
            "1                          NaN\n",
            "2                          NaN\n",
            "3                          NaN\n",
            "4                          NaN\n",
            "...                        ...\n",
            "1952                       NaN\n",
            "1953                       NaN\n",
            "1954                       NaN\n",
            "1955                       NaN\n",
            "1956                       NaN\n",
            "\n",
            "[1957 rows x 1 columns]\n"
          ]
        },
        {
          "output_type": "stream",
          "name": "stderr",
          "text": [
            "\r[*********************100%%**********************]  1 of 1 completed\n"
          ]
        },
        {
          "output_type": "stream",
          "name": "stdout",
          "text": [
            "Performing stepwise search to minimize aic\n",
            " ARIMA(1,1,1)(0,0,0)[0] intercept   : AIC=25095.807, Time=0.36 sec\n",
            " ARIMA(0,1,0)(0,0,0)[0] intercept   : AIC=25094.738, Time=0.08 sec\n",
            " ARIMA(1,1,0)(0,0,0)[0] intercept   : AIC=25094.240, Time=0.12 sec\n"
          ]
        },
        {
          "output_type": "stream",
          "name": "stderr",
          "text": [
            "\r[*********************100%%**********************]  1 of 1 completed"
          ]
        },
        {
          "output_type": "stream",
          "name": "stdout",
          "text": [
            " ARIMA(0,1,1)(0,0,0)[0] intercept   : AIC=25094.106, Time=0.18 sec\n",
            " ARIMA(0,1,0)(0,0,0)[0]             : AIC=25094.038, Time=0.05 sec\n",
            "\n",
            "Best model:  ARIMA(0,1,0)(0,0,0)[0]          \n",
            "Total fit time: 0.792 seconds\n",
            "      Forcasting Closing Price\n",
            "0                          NaN\n",
            "1                          NaN\n",
            "2                          NaN\n",
            "3                          NaN\n",
            "4                          NaN\n",
            "...                        ...\n",
            "1685                       NaN\n",
            "1686                       NaN\n",
            "1687                       NaN\n",
            "1688                       NaN\n",
            "1689                       NaN\n",
            "\n",
            "[1690 rows x 1 columns]\n",
            "Performing stepwise search to minimize aic\n"
          ]
        },
        {
          "output_type": "stream",
          "name": "stderr",
          "text": [
            "\n"
          ]
        },
        {
          "output_type": "stream",
          "name": "stdout",
          "text": [
            " ARIMA(1,1,1)(0,0,0)[0] intercept   : AIC=19689.528, Time=0.96 sec\n",
            " ARIMA(0,1,0)(0,0,0)[0] intercept   : AIC=19687.706, Time=0.09 sec\n",
            " ARIMA(1,1,0)(0,0,0)[0] intercept   : AIC=19688.829, Time=0.10 sec\n",
            " ARIMA(0,1,1)(0,0,0)[0] intercept   : AIC=19688.798, Time=0.44 sec\n",
            " ARIMA(0,1,0)(0,0,0)[0]             : AIC=19685.710, Time=0.07 sec\n",
            "\n",
            "Best model:  ARIMA(0,1,0)(0,0,0)[0]          \n",
            "Total fit time: 1.667 seconds\n",
            "      Forcasting Closing Price\n",
            "0                          NaN\n",
            "1                          NaN\n",
            "2                          NaN\n",
            "3                          NaN\n",
            "4                          NaN\n",
            "...                        ...\n",
            "1952                       NaN\n",
            "1953                       NaN\n",
            "1954                       NaN\n",
            "1955                       NaN\n",
            "1956                       NaN\n",
            "\n",
            "[1957 rows x 1 columns]\n"
          ]
        },
        {
          "output_type": "stream",
          "name": "stderr",
          "text": [
            "\r[*********************100%%**********************]  1 of 1 completed\n"
          ]
        },
        {
          "output_type": "stream",
          "name": "stdout",
          "text": [
            "Performing stepwise search to minimize aic\n",
            " ARIMA(1,1,1)(0,0,0)[0] intercept   : AIC=20760.926, Time=1.09 sec\n",
            " ARIMA(0,1,0)(0,0,0)[0] intercept   : AIC=20759.651, Time=0.09 sec\n",
            " ARIMA(1,1,0)(0,0,0)[0] intercept   : AIC=20761.032, Time=0.10 sec\n",
            " ARIMA(0,1,1)(0,0,0)[0] intercept   : AIC=20761.072, Time=0.22 sec\n",
            " ARIMA(0,1,0)(0,0,0)[0]             : AIC=20761.124, Time=0.07 sec\n",
            "\n",
            "Best model:  ARIMA(0,1,0)(0,0,0)[0] intercept\n",
            "Total fit time: 1.570 seconds\n",
            "      Forcasting Closing Price\n",
            "0                          NaN\n",
            "1                          NaN\n",
            "2                          NaN\n",
            "3                          NaN\n",
            "4                          NaN\n",
            "...                        ...\n",
            "1952                       NaN\n",
            "1953                       NaN\n",
            "1954                       NaN\n",
            "1955                       NaN\n",
            "1956                       NaN\n",
            "\n",
            "[1957 rows x 1 columns]\n"
          ]
        },
        {
          "output_type": "stream",
          "name": "stderr",
          "text": [
            "\r[*********************100%%**********************]  1 of 1 completed\n"
          ]
        },
        {
          "output_type": "stream",
          "name": "stdout",
          "text": [
            "Performing stepwise search to minimize aic\n",
            " ARIMA(1,1,1)(0,0,0)[0] intercept   : AIC=24658.678, Time=0.28 sec\n",
            " ARIMA(0,1,0)(0,0,0)[0] intercept   : AIC=24658.211, Time=0.10 sec\n",
            " ARIMA(1,1,0)(0,0,0)[0] intercept   : AIC=24656.675, Time=0.13 sec\n",
            " ARIMA(0,1,1)(0,0,0)[0] intercept   : AIC=24656.690, Time=0.23 sec\n",
            " ARIMA(0,1,0)(0,0,0)[0]             : AIC=24659.628, Time=0.06 sec\n",
            " ARIMA(2,1,0)(0,0,0)[0] intercept   : AIC=24658.674, Time=0.27 sec\n",
            " ARIMA(2,1,1)(0,0,0)[0] intercept   : AIC=24660.677, Time=0.38 sec\n",
            " ARIMA(1,1,0)(0,0,0)[0]             : AIC=24657.806, Time=0.10 sec\n",
            "\n",
            "Best model:  ARIMA(1,1,0)(0,0,0)[0] intercept\n",
            "Total fit time: 1.548 seconds\n",
            "      Forcasting Closing Price\n",
            "0                          NaN\n",
            "1                          NaN\n",
            "2                          NaN\n",
            "3                          NaN\n",
            "4                          NaN\n",
            "...                        ...\n",
            "1952                       NaN\n",
            "1953                       NaN\n",
            "1954                       NaN\n",
            "1955                       NaN\n",
            "1956                       NaN\n",
            "\n",
            "[1957 rows x 1 columns]\n"
          ]
        },
        {
          "output_type": "stream",
          "name": "stderr",
          "text": [
            "\r[*********************100%%**********************]  1 of 1 completed\n"
          ]
        },
        {
          "output_type": "stream",
          "name": "stdout",
          "text": [
            "Performing stepwise search to minimize aic\n",
            " ARIMA(1,1,1)(0,0,0)[0] intercept   : AIC=20322.862, Time=0.91 sec\n",
            " ARIMA(0,1,0)(0,0,0)[0] intercept   : AIC=20329.524, Time=0.09 sec\n",
            " ARIMA(1,1,0)(0,0,0)[0] intercept   : AIC=20325.270, Time=0.11 sec\n",
            " ARIMA(0,1,1)(0,0,0)[0] intercept   : AIC=20324.680, Time=0.23 sec\n",
            " ARIMA(0,1,0)(0,0,0)[0]             : AIC=20327.557, Time=0.08 sec\n",
            " ARIMA(2,1,1)(0,0,0)[0] intercept   : AIC=20325.203, Time=1.34 sec\n",
            " ARIMA(1,1,2)(0,0,0)[0] intercept   : AIC=20325.263, Time=0.99 sec\n",
            " ARIMA(0,1,2)(0,0,0)[0] intercept   : AIC=20323.370, Time=1.07 sec\n",
            " ARIMA(2,1,0)(0,0,0)[0] intercept   : AIC=20323.251, Time=0.59 sec\n",
            " ARIMA(2,1,2)(0,0,0)[0] intercept   : AIC=20320.113, Time=3.48 sec\n",
            " ARIMA(3,1,2)(0,0,0)[0] intercept   : AIC=20322.088, Time=4.49 sec\n",
            " ARIMA(2,1,3)(0,0,0)[0] intercept   : AIC=20322.096, Time=4.69 sec\n",
            " ARIMA(1,1,3)(0,0,0)[0] intercept   : AIC=20326.133, Time=3.32 sec\n",
            " ARIMA(3,1,1)(0,0,0)[0] intercept   : AIC=20327.202, Time=1.02 sec\n",
            " ARIMA(3,1,3)(0,0,0)[0] intercept   : AIC=20316.193, Time=6.23 sec\n",
            " ARIMA(4,1,3)(0,0,0)[0] intercept   : AIC=20317.193, Time=8.27 sec\n",
            " ARIMA(3,1,4)(0,0,0)[0] intercept   : AIC=20316.949, Time=6.36 sec\n",
            " ARIMA(2,1,4)(0,0,0)[0] intercept   : AIC=20315.718, Time=7.56 sec\n",
            " ARIMA(1,1,4)(0,0,0)[0] intercept   : AIC=20326.179, Time=3.68 sec\n",
            " ARIMA(2,1,5)(0,0,0)[0] intercept   : AIC=20317.177, Time=7.69 sec\n",
            " ARIMA(1,1,5)(0,0,0)[0] intercept   : AIC=20323.956, Time=5.21 sec\n",
            " ARIMA(3,1,5)(0,0,0)[0] intercept   : AIC=20323.460, Time=8.70 sec\n",
            " ARIMA(2,1,4)(0,0,0)[0]             : AIC=20313.743, Time=4.75 sec\n",
            " ARIMA(1,1,4)(0,0,0)[0]             : AIC=20324.210, Time=1.64 sec\n",
            " ARIMA(2,1,3)(0,0,0)[0]             : AIC=20320.110, Time=2.50 sec\n",
            " ARIMA(3,1,4)(0,0,0)[0]             : AIC=20314.981, Time=3.78 sec\n",
            " ARIMA(2,1,5)(0,0,0)[0]             : AIC=20315.104, Time=4.54 sec\n",
            " ARIMA(1,1,3)(0,0,0)[0]             : AIC=20324.160, Time=1.95 sec\n",
            " ARIMA(1,1,5)(0,0,0)[0]             : AIC=20321.983, Time=1.53 sec\n",
            " ARIMA(3,1,3)(0,0,0)[0]             : AIC=20314.188, Time=2.83 sec\n",
            " ARIMA(3,1,5)(0,0,0)[0]             : AIC=20321.539, Time=3.83 sec\n",
            "\n",
            "Best model:  ARIMA(2,1,4)(0,0,0)[0]          \n",
            "Total fit time: 103.548 seconds\n",
            "      Forcasting Closing Price\n",
            "0                          NaN\n",
            "1                          NaN\n",
            "2                          NaN\n",
            "3                          NaN\n",
            "4                          NaN\n",
            "...                        ...\n",
            "1952                       NaN\n",
            "1953                       NaN\n",
            "1954                       NaN\n",
            "1955                       NaN\n",
            "1956                       NaN\n",
            "\n",
            "[1957 rows x 1 columns]\n"
          ]
        },
        {
          "output_type": "stream",
          "name": "stderr",
          "text": [
            "\r[*********************100%%**********************]  1 of 1 completed\n"
          ]
        },
        {
          "output_type": "stream",
          "name": "stdout",
          "text": [
            "Performing stepwise search to minimize aic\n",
            " ARIMA(1,1,1)(0,0,0)[0] intercept   : AIC=20629.927, Time=0.30 sec\n",
            " ARIMA(0,1,0)(0,0,0)[0] intercept   : AIC=20626.524, Time=0.09 sec\n",
            " ARIMA(1,1,0)(0,0,0)[0] intercept   : AIC=20627.946, Time=0.10 sec\n",
            " ARIMA(0,1,1)(0,0,0)[0] intercept   : AIC=20627.936, Time=0.48 sec\n",
            " ARIMA(0,1,0)(0,0,0)[0]             : AIC=20626.034, Time=0.08 sec\n",
            "\n",
            "Best model:  ARIMA(0,1,0)(0,0,0)[0]          \n",
            "Total fit time: 1.055 seconds\n",
            "      Forcasting Closing Price\n",
            "0                          NaN\n",
            "1                          NaN\n",
            "2                          NaN\n",
            "3                          NaN\n",
            "4                          NaN\n",
            "...                        ...\n",
            "1952                       NaN\n",
            "1953                       NaN\n",
            "1954                       NaN\n",
            "1955                       NaN\n",
            "1956                       NaN\n",
            "\n",
            "[1957 rows x 1 columns]\n"
          ]
        },
        {
          "output_type": "stream",
          "name": "stderr",
          "text": [
            "\r[*********************100%%**********************]  1 of 1 completed\n"
          ]
        },
        {
          "output_type": "stream",
          "name": "stdout",
          "text": [
            "Performing stepwise search to minimize aic\n",
            " ARIMA(1,1,1)(0,0,0)[0] intercept   : AIC=25875.548, Time=3.04 sec\n",
            " ARIMA(0,1,0)(0,0,0)[0] intercept   : AIC=25875.113, Time=0.14 sec\n",
            " ARIMA(1,1,0)(0,0,0)[0] intercept   : AIC=25876.827, Time=0.18 sec\n",
            " ARIMA(0,1,1)(0,0,0)[0] intercept   : AIC=25876.807, Time=0.42 sec\n",
            " ARIMA(0,1,0)(0,0,0)[0]             : AIC=25875.692, Time=0.09 sec\n",
            "\n",
            "Best model:  ARIMA(0,1,0)(0,0,0)[0] intercept\n",
            "Total fit time: 3.872 seconds\n",
            "      Forcasting Closing Price\n",
            "0                          NaN\n",
            "1                          NaN\n",
            "2                          NaN\n",
            "3                          NaN\n",
            "4                          NaN\n",
            "...                        ...\n",
            "1952                       NaN\n",
            "1953                       NaN\n",
            "1954                       NaN\n",
            "1955                       NaN\n",
            "1956                       NaN\n",
            "\n",
            "[1957 rows x 1 columns]\n"
          ]
        }
      ]
    },
    {
      "cell_type": "markdown",
      "source": [
        "Alternate"
      ],
      "metadata": {
        "id": "ZW_OUzxF4tFJ"
      }
    },
    {
      "cell_type": "code",
      "source": [
        "import yfinance as yf\n",
        "import pandas as pd\n",
        "from datetime import date\n",
        "import matplotlib.pyplot as plt\n",
        "import pmdarima as pm\n",
        "from dateutil.relativedelta import relativedelta\n",
        "\n",
        "# Define the stock ticker and the time period\n",
        "ticker = '^CNXAUTO',\n",
        "end_date = date.today() - timedelta(days=2*365)\n",
        "start_date = date.today() - timedelta(days=10*365)\n",
        "\n",
        "# Fetch the historical data\n",
        "stock_data = yf.download(ticker, start=start_date, end=end_date)\n",
        "NSEI_data = yf.download('^NSEI', start=end_date, end=date.today())\n",
        "\n",
        "# Use the 'Close' price for ARIMA modeling\n",
        "prices = stock_data['Close']\n",
        "\n",
        "# Check for NaN values and handle them\n",
        "print(\"Initial NaN values in prices data:\", prices.isna().sum())\n",
        "prices = prices.dropna()\n",
        "print(\"NaN values after dropping:\", prices.isna().sum())\n",
        "\n",
        "'''\n",
        "# Ensure the index is a datetime index\n",
        "if not isinstance(prices.index, pd.DatetimeIndex):\n",
        "    prices.index = pd.to_datetime(prices.index)\n",
        "'''\n",
        "\n",
        "# Use auto_arima to find the optimal parameters\n",
        "model = pm.auto_arima(prices, start_p=0, start_q=0,\n",
        "                      test='adf',       # use adftest to find optimal 'd'\n",
        "                      max_p=3, max_q=3, # maximum p and q\n",
        "                      m=1,              # frequency of series\n",
        "                      d=None,           # let model determine 'd'\n",
        "                      seasonal=True,   # No Seasonality\n",
        "                      start_P=0,\n",
        "                      D=0,\n",
        "                      trace=True,\n",
        "                      error_action='ignore',\n",
        "                      suppress_warnings=True,\n",
        "                      stepwise=True)\n",
        "\n",
        "print(model.summary())\n",
        "\n",
        "model.plot_diagnostics(figsize=(15,8))\n",
        "plt.show()\n",
        "\n",
        "fitted = model.fit(y=prices, disp=-1)\n",
        "print(fitted.summary())\n",
        "\n",
        "forecast = model.predict(steps=len(NSEI_data))\n",
        "\n",
        "\n",
        "'''\n",
        "forecast = model.predict(start=end_date, end=date.today())\n",
        "index_of_fc = pd.date_range(pd.to_datetime(NSEI_data.index[-1])  + relativedelta(days = +1), periods = len(NSEI_data), freq = 'D')\n",
        "\n",
        "#forecast = pd.DataFrame(forecast,index = NSEI_data.index,columns=['Prediction'])\n",
        "\n",
        "data_fc.append(forecast)\n",
        "data_fitted.append(model.fittedvalues())\n",
        "\n",
        "df_fc = pd.DataFrame(index = index_of_fc)\n",
        "df_fitted = pd.DataFrame(index = NSEI_data.index)\n",
        "\n",
        "df_fc = data_fc[0][:]\n",
        "'''\n",
        "\n",
        "\"\"\"\n",
        "#printing predictions for next 2*365 days\n",
        "index_future_dates=pd.date_range(start= start_date, end=end_date, freq='D')\n",
        "forecast_period = 2*365\n",
        "forecast, conf_int = model.predict(n_periods=forecast_period, return_conf_int=True)\n",
        "\n",
        "# Ensure forecast and confidence intervals are not NaN\n",
        "print(\"Forecast NaN values:\", pd.isna(forecast).sum())\n",
        "print(\"Confidence Interval NaN values:\", pd.isna(conf_int).sum())\n",
        "\n",
        "# Create a DataFrame for the forecast\n",
        "forecast_dates = pd.date_range(start=prices.index[-1] + pd.Timedelta(days=1), periods=forecast_period)\n",
        "forecast_df = pd.DataFrame(forecast, index=forecast_dates, columns=['Forecast'])\n",
        "conf_int_df = pd.DataFrame(conf_int, index=forecast_dates, columns=['Lower CI', 'Upper CI'])\n",
        "\n",
        "# Combine historical prices with forecast\n",
        "combined_df = pd.concat([prices, forecast_df], axis=1)\n",
        "\n",
        "combined_df\n",
        "\n",
        "\"\"\""
      ],
      "metadata": {
        "colab": {
          "base_uri": "https://localhost:8080/",
          "height": 1000
        },
        "id": "noD9hd4g4t3H",
        "outputId": "b703959f-72cf-41ac-f5c4-5dbb152039d4"
      },
      "execution_count": null,
      "outputs": [
        {
          "output_type": "stream",
          "name": "stderr",
          "text": [
            "[*********************100%%**********************]  1 of 1 completed\n",
            "[*********************100%%**********************]  1 of 1 completed\n"
          ]
        },
        {
          "output_type": "stream",
          "name": "stdout",
          "text": [
            "Initial NaN values in prices data: 0\n",
            "NaN values after dropping: 0\n",
            "Performing stepwise search to minimize aic\n",
            " ARIMA(0,1,0)(0,0,0)[0] intercept   : AIC=24376.525, Time=0.17 sec\n",
            " ARIMA(1,1,0)(0,0,0)[0] intercept   : AIC=24376.193, Time=0.22 sec\n",
            " ARIMA(0,1,1)(0,0,0)[0] intercept   : AIC=24376.281, Time=0.50 sec\n",
            " ARIMA(0,1,0)(0,0,0)[0]             : AIC=24375.246, Time=0.11 sec\n",
            " ARIMA(1,1,1)(0,0,0)[0] intercept   : AIC=24377.582, Time=1.72 sec\n",
            "\n",
            "Best model:  ARIMA(0,1,0)(0,0,0)[0]          \n",
            "Total fit time: 2.807 seconds\n",
            "                               SARIMAX Results                                \n",
            "==============================================================================\n",
            "Dep. Variable:                      y   No. Observations:                 1957\n",
            "Model:               SARIMAX(0, 1, 0)   Log Likelihood              -12186.623\n",
            "Date:                Thu, 23 May 2024   AIC                          24375.246\n",
            "Time:                        03:10:38   BIC                          24380.825\n",
            "Sample:                             0   HQIC                         24377.297\n",
            "                               - 1957                                         \n",
            "Covariance Type:                  opg                                         \n",
            "==============================================================================\n",
            "                 coef    std err          z      P>|z|      [0.025      0.975]\n",
            "------------------------------------------------------------------------------\n",
            "sigma2       1.51e+04    294.726     51.230      0.000    1.45e+04    1.57e+04\n",
            "===================================================================================\n",
            "Ljung-Box (L1) (Q):                   2.36   Jarque-Bera (JB):               964.21\n",
            "Prob(Q):                              0.12   Prob(JB):                         0.00\n",
            "Heteroskedasticity (H):               2.05   Skew:                            -0.30\n",
            "Prob(H) (two-sided):                  0.00   Kurtosis:                         6.39\n",
            "===================================================================================\n",
            "\n",
            "Warnings:\n",
            "[1] Covariance matrix calculated using the outer product of gradients (complex-step).\n"
          ]
        },
        {
          "output_type": "display_data",
          "data": {
            "text/plain": [
              "<Figure size 1500x800 with 4 Axes>"
            ],
            "image/png": "[encoded data removed]"
          },
          "metadata": {}
        },
        {
          "output_type": "stream",
          "name": "stdout",
          "text": [
            "                               SARIMAX Results                                \n",
            "==============================================================================\n",
            "Dep. Variable:                      y   No. Observations:                 1957\n",
            "Model:               SARIMAX(0, 1, 0)   Log Likelihood              -12186.623\n",
            "Date:                Thu, 23 May 2024   AIC                          24375.246\n",
            "Time:                        03:10:40   BIC                          24380.825\n",
            "Sample:                             0   HQIC                         24377.297\n",
            "                               - 1957                                         \n",
            "Covariance Type:                  opg                                         \n",
            "==============================================================================\n",
            "                 coef    std err          z      P>|z|      [0.025      0.975]\n",
            "------------------------------------------------------------------------------\n",
            "sigma2       1.51e+04    294.726     51.230      0.000    1.45e+04    1.57e+04\n",
            "===================================================================================\n",
            "Ljung-Box (L1) (Q):                   2.36   Jarque-Bera (JB):               964.21\n",
            "Prob(Q):                              0.12   Prob(JB):                         0.00\n",
            "Heteroskedasticity (H):               2.05   Skew:                            -0.30\n",
            "Prob(H) (two-sided):                  0.00   Kurtosis:                         6.39\n",
            "===================================================================================\n",
            "\n",
            "Warnings:\n",
            "[1] Covariance matrix calculated using the outer product of gradients (complex-step).\n"
          ]
        },
        {
          "output_type": "stream",
          "name": "stderr",
          "text": [
            "/usr/local/lib/python3.10/dist-packages/statsmodels/tsa/base/tsa_model.py:836: ValueWarning: No supported index is available. Prediction results will be given with an integer index beginning at `start`.\n",
            "  return get_prediction_index(\n",
            "/usr/local/lib/python3.10/dist-packages/statsmodels/tsa/base/tsa_model.py:836: FutureWarning: No supported index is available. In the next version, calling this method in a model without a supported index will result in an exception.\n",
            "  return get_prediction_index(\n"
          ]
        },
        {
          "output_type": "execute_result",
          "data": {
            "text/plain": [
              "'\\n#printing predictions for next 2*365 days\\nindex_future_dates=pd.date_range(start= start_date, end=end_date, freq=\\'D\\')\\nforecast_period = 2*365\\nforecast, conf_int = model.predict(n_periods=forecast_period, return_conf_int=True)\\n\\n# Ensure forecast and confidence intervals are not NaN\\nprint(\"Forecast NaN values:\", pd.isna(forecast).sum())\\nprint(\"Confidence Interval NaN values:\", pd.isna(conf_int).sum())\\n\\n# Create a DataFrame for the forecast\\nforecast_dates = pd.date_range(start=prices.index[-1] + pd.Timedelta(days=1), periods=forecast_period)\\nforecast_df = pd.DataFrame(forecast, index=forecast_dates, columns=[\\'Forecast\\'])\\nconf_int_df = pd.DataFrame(conf_int, index=forecast_dates, columns=[\\'Lower CI\\', \\'Upper CI\\'])\\n\\n# Combine historical prices with forecast\\ncombined_df = pd.concat([prices, forecast_df], axis=1)\\n\\ncombined_df\\n\\n'"
            ],
            "application/vnd.google.colaboratory.intrinsic+json": {
              "type": "string"
            }
          },
          "metadata": {},
          "execution_count": 21
        }
      ]
    },
    {
      "cell_type": "code",
      "source": [
        "from statsmodels.tsa.arima.model import ARIMA\n",
        "\n",
        "model = ARIMA(prices, order=(0, 1, 0))\n",
        "fitted = model.fit()\n",
        "print(fitted.summary())"
      ],
      "metadata": {
        "colab": {
          "base_uri": "https://localhost:8080/"
        },
        "id": "IymeHJKIXPHQ",
        "outputId": "2f5cf56e-7bdf-413d-abe6-adb7e1c7e6a8"
      },
      "execution_count": null,
      "outputs": [
        {
          "output_type": "stream",
          "name": "stdout",
          "text": [
            "                               SARIMAX Results                                \n",
            "==============================================================================\n",
            "Dep. Variable:                  Close   No. Observations:                 1957\n",
            "Model:                 ARIMA(0, 1, 0)   Log Likelihood              -12186.623\n",
            "Date:                Thu, 23 May 2024   AIC                          24375.246\n",
            "Time:                        03:07:22   BIC                          24380.825\n",
            "Sample:                             0   HQIC                         24377.297\n",
            "                               - 1957                                         \n",
            "Covariance Type:                  opg                                         \n",
            "==============================================================================\n",
            "                 coef    std err          z      P>|z|      [0.025      0.975]\n",
            "------------------------------------------------------------------------------\n",
            "sigma2       1.51e+04    294.726     51.230      0.000    1.45e+04    1.57e+04\n",
            "===================================================================================\n",
            "Ljung-Box (L1) (Q):                   2.36   Jarque-Bera (JB):               964.21\n",
            "Prob(Q):                              0.12   Prob(JB):                         0.00\n",
            "Heteroskedasticity (H):               2.05   Skew:                            -0.30\n",
            "Prob(H) (two-sided):                  0.00   Kurtosis:                         6.39\n",
            "===================================================================================\n",
            "\n",
            "Warnings:\n",
            "[1] Covariance matrix calculated using the outer product of gradients (complex-step).\n"
          ]
        },
        {
          "output_type": "stream",
          "name": "stderr",
          "text": [
            "/usr/local/lib/python3.10/dist-packages/statsmodels/tsa/base/tsa_model.py:473: ValueWarning: A date index has been provided, but it has no associated frequency information and so will be ignored when e.g. forecasting.\n",
            "  self._init_dates(dates, freq)\n",
            "/usr/local/lib/python3.10/dist-packages/statsmodels/tsa/base/tsa_model.py:473: ValueWarning: A date index has been provided, but it has no associated frequency information and so will be ignored when e.g. forecasting.\n",
            "  self._init_dates(dates, freq)\n",
            "/usr/local/lib/python3.10/dist-packages/statsmodels/tsa/base/tsa_model.py:473: ValueWarning: A date index has been provided, but it has no associated frequency information and so will be ignored when e.g. forecasting.\n",
            "  self._init_dates(dates, freq)\n"
          ]
        }
      ]
    },
    {
      "cell_type": "code",
      "source": [
        "fc = fitted.forecast(len(NSEI_data))\n",
        "fc"
      ],
      "metadata": {
        "colab": {
          "base_uri": "https://localhost:8080/"
        },
        "id": "Sth3qXsMZ832",
        "outputId": "faf36fec-d1b0-4d9f-f7ef-e709677d3cf6"
      },
      "execution_count": null,
      "outputs": [
        {
          "output_type": "stream",
          "name": "stderr",
          "text": [
            "/usr/local/lib/python3.10/dist-packages/statsmodels/tsa/base/tsa_model.py:836: ValueWarning: No supported index is available. Prediction results will be given with an integer index beginning at `start`.\n",
            "  return get_prediction_index(\n",
            "/usr/local/lib/python3.10/dist-packages/statsmodels/tsa/base/tsa_model.py:836: FutureWarning: No supported index is available. In the next version, calling this method in a model without a supported index will result in an exception.\n",
            "  return get_prediction_index(\n"
          ]
        },
        {
          "output_type": "execute_result",
          "data": {
            "text/plain": [
              "1957    11115.200195\n",
              "1958    11115.200195\n",
              "1959    11115.200195\n",
              "1960    11115.200195\n",
              "1961    11115.200195\n",
              "            ...     \n",
              "2444    11115.200195\n",
              "2445    11115.200195\n",
              "2446    11115.200195\n",
              "2447    11115.200195\n",
              "2448    11115.200195\n",
              "Name: predicted_mean, Length: 492, dtype: float64"
            ]
          },
          "metadata": {},
          "execution_count": 17
        }
      ]
    },
    {
      "cell_type": "code",
      "source": [
        "fc_series = pd.Series(fc, index=NSEI_data.index)"
      ],
      "metadata": {
        "colab": {
          "base_uri": "https://localhost:8080/"
        },
        "id": "-LVmQpRjaKsD",
        "outputId": "e90438db-2ad8-41f8-8548-6f60414fb5e2"
      },
      "execution_count": null,
      "outputs": [
        {
          "output_type": "execute_result",
          "data": {
            "text/plain": [
              "Date\n",
              "2022-05-24   NaN\n",
              "2022-05-25   NaN\n",
              "2022-05-26   NaN\n",
              "2022-05-27   NaN\n",
              "2022-05-30   NaN\n",
              "              ..\n",
              "2024-05-15   NaN\n",
              "2024-05-16   NaN\n",
              "2024-05-17   NaN\n",
              "2024-05-21   NaN\n",
              "2024-05-22   NaN\n",
              "Name: predicted_mean, Length: 492, dtype: float64"
            ]
          },
          "metadata": {},
          "execution_count": 13
        }
      ]
    },
    {
      "cell_type": "markdown",
      "source": [
        "It appears, that due to lack of proper documentation and no relevant sources to guide me through the process for working with ARIMA syntaxes, I am unable to work with ARIMA.\n",
        "\n",
        "Although I understand the concept and am able to understand how to proceed further, it has become difficult to proceed further with this method due to the aformentioned reasons."
      ],
      "metadata": {
        "id": "7QN4TvKAahyG"
      }
    }
  ]
}